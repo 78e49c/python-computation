{
  "nbformat": 4,
  "nbformat_minor": 0,
  "metadata": {
    "colab": {
      "provenance": []
    },
    "kernelspec": {
      "name": "python3",
      "display_name": "Python 3"
    },
    "language_info": {
      "name": "python"
    }
  },
  "cells": [
    {
      "cell_type": "code",
      "execution_count": null,
      "metadata": {
        "id": "S56WtMqI1mSn"
      },
      "outputs": [],
      "source": [
        "class GPA:\n",
        "    def __init__(self, completed_semesters, initial_average):\n",
        "        self.completed_semesters = completed_semesters\n",
        "        self.GPA = initial_average\n",
        "        self.Credits = completed_semesters * 30\n",
        "\n",
        "    def update_credits(self, new_credit):\n",
        "        previous_total_grade_points = self.Credits * self.GPA\n",
        "        self.Credits += new_credit\n",
        "        if self.Credits != 0:\n",
        "          self.GPA = (previous_total_grade_points) / self.Credits\n",
        "\n",
        "    def add_course(self, credits, letter_grade):\n",
        "        grade_point  = self.convert_grade_to_point(letter_grade)\n",
        "        self.GPA = ((self.Credits * self.GPA) + (credits * grade_point)) / (credits + self.Credits)\n",
        "        self.Credits += credits\n",
        "\n",
        "    def convert_grade_to_point(self, letter_grade):\n",
        "        letter_grade = letter_grade.lower()\n",
        "        grade_mapping  = {'aa': 4.0, 'ba': 3.5, 'bb': 3.0, 'cb': 2.5, 'cc': 2.0, 'dc': 1.5, 'dd': 1.0, 'fd': 0.5, 'ff': 0.0}\n",
        "        return grade_mapping.get(letter_grade, 0.0)\n",
        "\n",
        "    def convert_point_to_grade(self, point):\n",
        "        if 3.5 <= point  <= 4.0:\n",
        "            return 'AA'\n",
        "        elif 3.0 <= point  < 3.5:\n",
        "            return 'BA'\n",
        "        elif 2.5 <= point  < 3.0:\n",
        "            return 'BB'\n",
        "        elif 2.0 <= point  < 2.5:\n",
        "            return 'CB'\n",
        "        elif 1.5 <= point  < 2.0:\n",
        "            return 'CC'\n",
        "        elif 1.0 <= point  < 1.5:\n",
        "            return 'DC'\n",
        "        elif 0.5 <= point  < 1.0:\n",
        "            return 'DD'\n",
        "        elif 0.0 <= point  < 0.5:\n",
        "            return 'FD'\n",
        "        else:\n",
        "            return 'FF'\n",
        "\n",
        "    def display(self):\n",
        "        print(f\"G.AKTS: {self.Credits:.0f}\\nGANO: {self.GPA:.2f}\\nGANO Yüzde: {self.GPA / 4.0 * 100:.2f}\")"
      ]
    },
    {
      "cell_type": "code",
      "source": [
        "'''Sıfırdan bir GANO hesabı örneği'''\n",
        "\n",
        "# biten dönem sayısı (her yıl 2 dönem) ve o döneme kadarki GANO\n",
        "# (bir dönem 30 akts üzerinden hesaplanır)\n",
        "gano = GPA(0,0)\n",
        "\n",
        "# G.AKTS düzenle (eğer her dönem için D.AKTS 30 istenmiyorsa)\n",
        "# veya hesaba katılmayacak derslerin kredilerinin toplamı olabilir\n",
        "# (mesela tekrar alınacak dersler)\n",
        "gano.update_credits(0)\n",
        "\n",
        "# dersleri ekle\n",
        "gano.add_course(2, 'ba')\n",
        "gano.add_course(4, 'cb')\n",
        "gano.add_course(2, 'ba')\n",
        "gano.add_course(5, 'aa')\n",
        "gano.add_course(4, 'ba')\n",
        "gano.add_course(5, 'cc')\n",
        "gano.add_course(6, 'cb')\n",
        "gano.add_course(2, 'aa')\n",
        "gano.display()\n",
        "\n",
        "''' 4. sınıf güz dönemindeki bir öğrenci için 6 dönem bitmiştir'''\n",
        "\n",
        "print(\"------------------------------\\nKalan derslerle beraber\")\n",
        "gano2 = GPA(6,2.51)\n",
        "gano2.display()\n",
        "# eğer toplam 14 kredilik dersten kaldıysa, temiz ortalama için\n",
        "print(\"\\nKalan derslersiz\")\n",
        "gano2.update_credits(-14)\n",
        "gano2.display()\n",
        "print(\"\\nBazı mevcut dönem dersleriyle\")\n",
        "# üzerine mevcut dönemin kesinleşmiş dersleri\n",
        "gano2.add_course(5, 'aa')\n",
        "gano2.add_course(4, 'ba')\n",
        "gano2.add_course(6, 'cc')\n",
        "gano2.add_course(3, 'bb')\n",
        "gano2.display()"
      ],
      "metadata": {
        "colab": {
          "base_uri": "https://localhost:8080/"
        },
        "id": "dW9fZYyoyoBT",
        "outputId": "9a6c8229-80a7-4fb1-b65a-e7375689e8aa"
      },
      "execution_count": null,
      "outputs": [
        {
          "output_type": "stream",
          "name": "stdout",
          "text": [
            "G.AKTS: 30\n",
            "GANO: 3.03\n",
            "GANO Yüzde: 75.83\n",
            "------------------------------\n",
            "Kalan derslerle beraber\n",
            "G.AKTS: 180\n",
            "GANO: 2.51\n",
            "GANO Yüzde: 62.75\n",
            "\n",
            "Kalan derslersiz\n",
            "G.AKTS: 166\n",
            "GANO: 2.72\n",
            "GANO Yüzde: 68.04\n",
            "\n",
            "Bazı mevcut dönem dersleriyle\n",
            "G.AKTS: 184\n",
            "GANO: 2.75\n",
            "GANO Yüzde: 68.86\n"
          ]
        }
      ]
    }
  ]
}